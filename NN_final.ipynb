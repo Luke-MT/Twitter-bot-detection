{
 "cells": [
  {
   "cell_type": "code",
   "id": "388068162e97fff",
   "metadata": {
    "ExecuteTime": {
     "end_time": "2025-09-20T14:23:39.873574Z",
     "start_time": "2025-09-20T14:23:19.219341Z"
    }
   },
   "source": [
    "import pandas as pd\n",
    "import numpy as np\n",
    "import tensorflow as tf\n",
    "import re # Importiamo il modulo per le espressioni regolari\n",
    "from tensorflow.keras.models import Model\n",
    "from tensorflow.keras.layers import Input, Dense, concatenate, Dropout\n",
    "from tensorflow.keras.callbacks import EarlyStopping\n",
    "from tensorflow.keras.metrics import Precision, Recall, AUC\n",
    "from sklearn.preprocessing import StandardScaler, LabelEncoder\n",
    "from sklearn.metrics import classification_report\n",
    "from sklearn.utils.class_weight import compute_class_weight"
   ],
   "outputs": [
    {
     "name": "stderr",
     "output_type": "stream",
     "text": [
      "2025-09-20 16:23:24.870659: E external/local_xla/xla/stream_executor/cuda/cuda_fft.cc:467] Unable to register cuFFT factory: Attempting to register factory for plugin cuFFT when one has already been registered\n",
      "WARNING: All log messages before absl::InitializeLog() is called are written to STDERR\n",
      "E0000 00:00:1758378205.073980    4269 cuda_dnn.cc:8579] Unable to register cuDNN factory: Attempting to register factory for plugin cuDNN when one has already been registered\n",
      "E0000 00:00:1758378205.172109    4269 cuda_blas.cc:1407] Unable to register cuBLAS factory: Attempting to register factory for plugin cuBLAS when one has already been registered\n",
      "W0000 00:00:1758378205.651300    4269 computation_placer.cc:177] computation placer already registered. Please check linkage and avoid linking the same target more than once.\n",
      "W0000 00:00:1758378205.651413    4269 computation_placer.cc:177] computation placer already registered. Please check linkage and avoid linking the same target more than once.\n",
      "W0000 00:00:1758378205.651420    4269 computation_placer.cc:177] computation placer already registered. Please check linkage and avoid linking the same target more than once.\n",
      "W0000 00:00:1758378205.651426    4269 computation_placer.cc:177] computation placer already registered. Please check linkage and avoid linking the same target more than once.\n",
      "2025-09-20 16:23:25.728138: I tensorflow/core/platform/cpu_feature_guard.cc:210] This TensorFlow binary is optimized to use available CPU instructions in performance-critical operations.\n",
      "To enable the following instructions: AVX2 AVX512F FMA, in other operations, rebuild TensorFlow with the appropriate compiler flags.\n"
     ]
    }
   ],
   "execution_count": 1
  },
  {
   "metadata": {
    "ExecuteTime": {
     "end_time": "2025-09-20T14:24:35.290522Z",
     "start_time": "2025-09-20T14:23:39.908286Z"
    }
   },
   "cell_type": "code",
   "source": [
    "# Load data\n",
    "df_path = 'Datasets/'\n",
    "users = pd.read_csv(df_path + 'v2_top10_embeddings_users.csv')\n",
    "emb = np.load(df_path + 'v2_top10_embeddings.npy')\n",
    "df2 = pd.concat([users, pd.DataFrame(emb)], axis=1)\n",
    "\n",
    "#load features\n",
    "features = pd.read_csv(df_path + 'df_preprocessed.csv')\n",
    "desc = np.load(df_path + 'description_embeddings.npy')\n",
    "\n",
    "desc_merged = pd.concat([features, pd.DataFrame(desc)], axis=1)\n",
    "desc_merged.rename(columns=lambda c: f\"D{c}\" if str(c).isdigit() else c, inplace=True)\n",
    "df2['has_embedding'] = 1\n",
    "df2.rename(columns=lambda c: f\"T{c}\" if str(c).isdigit() else c, inplace=True)\n",
    "df2_merged = desc_merged.merge(df2, left_on=\"id\", right_on='author_id',how=\"left\")\n",
    "df = df2_merged.fillna(0)\n",
    "print(df.shape)\n",
    "print(df['label_x'].value_counts())\n"
   ],
   "id": "cc17794ecdb56aac",
   "outputs": [
    {
     "name": "stderr",
     "output_type": "stream",
     "text": [
      "/tmp/ipykernel_4269/3929193048.py:8: DtypeWarning: Columns (13) have mixed types. Specify dtype option on import or set low_memory=False.\n",
      "  features = pd.read_csv(df_path + 'df_preprocessed.csv')\n"
     ]
    },
    {
     "name": "stdout",
     "output_type": "stream",
     "text": [
      "(1000000, 1220)\n",
      "label_x\n",
      "human    860057\n",
      "bot      139943\n",
      "Name: count, dtype: int64\n"
     ]
    }
   ],
   "execution_count": 2
  },
  {
   "metadata": {
    "ExecuteTime": {
     "end_time": "2025-09-20T14:24:37.846901Z",
     "start_time": "2025-09-20T14:24:35.669487Z"
    }
   },
   "cell_type": "code",
   "source": [
    "\n",
    "# 1. Inizializziamo le liste per i nomi delle colonne\n",
    "d_cols = []\n",
    "t_cols = []\n",
    "other_cols = []\n",
    "\n",
    "# Definiamo i pattern per la ricerca usando espressioni regolari\n",
    "# ^D\\d+$ : Cerca stringhe che iniziano (^) con 'D' seguita da uno o più numeri (\\d+) fino alla fine ($)\n",
    "d_pattern = re.compile(r'^D\\d+$')\n",
    "t_pattern = re.compile(r'^T\\d+$')\n",
    "\n",
    "\n",
    "# 2. Iteriamo su tutte le colonne del DataFrame\n",
    "for col in df.columns:\n",
    "    if d_pattern.match(col):\n",
    "        d_cols.append(col)\n",
    "    elif t_pattern.match(col):\n",
    "        t_cols.append(col)\n",
    "    else:\n",
    "        other_cols.append(col)\n",
    "\n",
    "d_cols.append('split_x')\n",
    "d_cols.append('label_x')\n",
    "t_cols.append('split_x')\n",
    "t_cols.append('label_x')\n",
    "\n",
    "print(f\"Trovate {len(d_cols)} colonne che iniziano con 'D' e un numero.\")\n",
    "print(f\"Trovate {len(t_cols)} colonne che iniziano con 'T' e un numero.\")\n",
    "print(f\"Trovate {len(other_cols)} colonne restanti.\")\n",
    "\n",
    "# 3. Creiamo i tre nuovi DataFrame\n",
    "df_d_features = df[d_cols]\n",
    "df_t_features = df[t_cols]\n",
    "df_other_features = df[other_cols]\n",
    "\n",
    "print(df_d_features.shape, df_t_features.shape, df_other_features.shape)\n"
   ],
   "id": "c5abcca69c85e676",
   "outputs": [
    {
     "name": "stdout",
     "output_type": "stream",
     "text": [
      "Trovate 386 colonne che iniziano con 'D' e un numero.\n",
      "Trovate 770 colonne che iniziano con 'T' e un numero.\n",
      "Trovate 68 colonne restanti.\n",
      "(1000000, 386) (1000000, 770) (1000000, 68)\n"
     ]
    }
   ],
   "execution_count": 3
  },
  {
   "metadata": {
    "ExecuteTime": {
     "end_time": "2025-09-20T14:24:37.913855Z",
     "start_time": "2025-09-20T14:24:37.905181Z"
    }
   },
   "cell_type": "code",
   "source": [
    "def prepare_data(df, features=0):\n",
    "    print(f\"Dataset shape: {df.shape}\")\n",
    "    #print(f\"Class distribution:\\n{df['label'].value_counts()}\")\n",
    "\n",
    "    # Get feature columns (the numeric columns 0-383)\n",
    "    #feature_cols = [i for i in range(df.shape[1]-50)]\n",
    "    if features:\n",
    "        cols_to_remove = ['created_at', 'description', 'entities', 'id', 'location', 'name', 'pinned_tweet_id', 'profile_image_url', 'protected', 'public_metrics', 'url', 'username', 'verified', 'account_age_days', 'author_id', 'label_y', 'split_y', 'withheld', 'n_tweets']\n",
    "        df = df.drop(columns=cols_to_remove)\n",
    "    df = df.rename(columns={'label_x': 'label', 'split_x':'split'})\n",
    "\n",
    "    #X_emb = df[feature_cols]\n",
    "    #X_features = df[df.columns.difference(cols_to_remove+feature_cols)]\n",
    "    le = LabelEncoder()\n",
    "    y = le.fit_transform(df['label'])\n",
    "    print(df['label'][0], y[0])\n",
    "\n",
    "    # Split using existing split column\n",
    "    \"\"\"X_train_emb = X_emb[df['split'] == 'train']\n",
    "    X_train_features = X_features[df['split'] == 'train']\n",
    "    X_train_features = X_train_features.drop(columns=['label', 'split'])\"\"\"\n",
    "    X_train = df[df['split'] == 'train']\n",
    "    X_train = X_train.drop(columns=['label', 'split'])\n",
    "    y_train = y[df['split'] == 'train']\n",
    "    \"\"\"X_val_emb = X_emb[df['split'] == 'val']\n",
    "    X_val_features = X_features[df['split'] == 'val']\n",
    "    X_val_features = X_val_features.drop(columns=['label', 'split'])\"\"\"\n",
    "    X_val = df[df['split'] == 'val']\n",
    "    X_val = X_val.drop(columns=['label', 'split'])\n",
    "    y_val = y[df['split'] == 'val']\n",
    "    \"\"\"X_test_emb = X_emb[df['split'] == 'test']\n",
    "    X_test_features = X_features[df['split'] == 'test']\n",
    "    X_test_features = X_test_features.drop(columns=['label', 'split'])\"\"\"\n",
    "    X_test = df[df['split'] == 'test']\n",
    "    X_test = X_test.drop(columns=['label', 'split'])\n",
    "    y_test = y[df['split'] == 'test']\n",
    "\n",
    "    print(f\"\\nSplit sizes - Train: {len(y_train)}, Val: {len(y_val)}, Test: {len(y_test)}\")\n",
    "    print(f\"Train class distribution: {pd.Series(y_train).value_counts().to_dict()}\")\n",
    "    print(f\"Validation class distribution: {pd.Series(y_val).value_counts().to_dict()}\")\n",
    "    print(f\"Test class distribution: {pd.Series(y_test).value_counts().to_dict()}\")\n",
    "\n",
    "    return X_train, y_train, X_val, y_val, X_test, y_test, le"
   ],
   "id": "a2246f062e20ed1e",
   "outputs": [],
   "execution_count": 4
  },
  {
   "metadata": {
    "ExecuteTime": {
     "end_time": "2025-09-20T14:24:46.495744Z",
     "start_time": "2025-09-20T14:24:37.969398Z"
    }
   },
   "cell_type": "code",
   "source": [
    "print(\"Preprocessing data...\")\n",
    "# --- Prepare Labels (y) ---\n",
    "X_train_emb1, _, X_val_emb1, _, X_test_emb1, _, le = prepare_data(df_d_features)\n",
    "X_train_emb2, _, X_val_emb2, _, X_test_emb2, _, le = prepare_data(df_t_features)\n",
    "X_train_features, y_train, X_val_features, y_val, X_test_features, y_test, le = prepare_data(df_other_features, 1)\n",
    "\n",
    "X_train = [X_train_features, X_train_emb1, X_train_emb2 ]\n",
    "X_val = [X_val_features, X_val_emb1, X_val_emb2]\n",
    "X_test = [X_test_features, X_test_emb1, X_test_emb2]"
   ],
   "id": "273927532ae7c3a6",
   "outputs": [
    {
     "name": "stdout",
     "output_type": "stream",
     "text": [
      "Preprocessing data...\n",
      "Dataset shape: (1000000, 386)\n",
      "human 1\n",
      "\n",
      "Split sizes - Train: 700000, Val: 200000, Test: 100000\n",
      "Train class distribution: {1: 645414, 0: 54586}\n",
      "Validation class distribution: {1: 144087, 0: 55913}\n",
      "Test class distribution: {1: 70556, 0: 29444}\n",
      "Dataset shape: (1000000, 770)\n",
      "human 1\n",
      "\n",
      "Split sizes - Train: 700000, Val: 200000, Test: 100000\n",
      "Train class distribution: {1: 645414, 0: 54586}\n",
      "Validation class distribution: {1: 144087, 0: 55913}\n",
      "Test class distribution: {1: 70556, 0: 29444}\n",
      "Dataset shape: (1000000, 68)\n",
      "human 1\n",
      "\n",
      "Split sizes - Train: 700000, Val: 200000, Test: 100000\n",
      "Train class distribution: {1: 645414, 0: 54586}\n",
      "Validation class distribution: {1: 144087, 0: 55913}\n",
      "Test class distribution: {1: 70556, 0: 29444}\n"
     ]
    }
   ],
   "execution_count": 5
  },
  {
   "metadata": {
    "ExecuteTime": {
     "end_time": "2025-09-20T14:24:46.622421Z",
     "start_time": "2025-09-20T14:24:46.614306Z"
    }
   },
   "cell_type": "code",
   "source": [
    "def build_classifier_model(num_numerical_features, emb1_shape, emb2_shape):\n",
    "    \"\"\"\n",
    "    Builds a multi-input Keras model for classification.\n",
    "    \"\"\"\n",
    "    # Input layer for standard numerical features\n",
    "    input_numeric = Input(shape=(num_numerical_features,), name='numerical_input')\n",
    "    # Processing branch for numerical features\n",
    "    x1 = Dense(64, activation='relu')(input_numeric)\n",
    "    x1 = Dropout(0.3)(x1)\n",
    "    x1 = Dense(32, activation='relu')(x1)\n",
    "\n",
    "    # Input layer for the first embedding\n",
    "    input_emb1 = Input(shape=(emb1_shape,), name='embedding1_input')\n",
    "    # (Optional) Add a dense layer to process the first embedding\n",
    "    x2 = Dense(256, activation='relu')(input_emb1)\n",
    "    x2 = Dropout(0.3)(x2)\n",
    "    x2 = Dense(128, activation='relu')(x2)\n",
    "    x2 = Dropout(0.3)(x2)\n",
    "    x2 = Dense(64, activation='relu')(x2)\n",
    "\n",
    "    # Input layer for the second embedding\n",
    "    input_emb2 = Input(shape=(emb2_shape,), name='embedding2_input')\n",
    "    # (Optional) Add a dense layer to process the second embedding\n",
    "    x3 = Dense(512, activation='relu')(input_emb2)\n",
    "    x3 = Dropout(0.3)(x3)\n",
    "    x3 = Dense(256, activation='relu')(x3)\n",
    "    x3 = Dropout(0.3)(x3)\n",
    "    x3 = Dense(128, activation='relu')(x3)\n",
    "\n",
    "    # Concatenate all processed inputs\n",
    "    concatenated = concatenate([x1, x2, x3])\n",
    "\n",
    "    # Final classification layers\n",
    "    combined = Dense(128, activation='relu')(concatenated)\n",
    "    combined = Dropout(0.5)(combined)\n",
    "    combined = Dense(64, activation='relu')(combined)\n",
    "    output = Dense(1, activation='sigmoid', name='output')(combined) # Sigmoid for binary classification\n",
    "\n",
    "    # Create and compile the model\n",
    "    model = Model(inputs=[input_numeric, input_emb1, input_emb2], outputs=output)\n",
    "    model.compile(optimizer='adam',\n",
    "                  loss='binary_crossentropy',\n",
    "                  metrics=['accuracy', AUC()])\n",
    "    return model"
   ],
   "id": "4cea734d1992ecdb",
   "outputs": [],
   "execution_count": 6
  },
  {
   "metadata": {
    "ExecuteTime": {
     "end_time": "2025-09-20T14:24:47.049947Z",
     "start_time": "2025-09-20T14:24:46.730475Z"
    }
   },
   "cell_type": "code",
   "source": [
    "# --- Build the Model ---\n",
    "print(\"\\n3. Building the model...\")\n",
    "model = build_classifier_model(\n",
    "    num_numerical_features=X_train_features.shape[1],\n",
    "    emb1_shape=X_train_emb1.shape[1],\n",
    "    emb2_shape=X_train_emb2.shape[1]\n",
    ")\n",
    "model.summary()"
   ],
   "id": "4102db1e2d5f6256",
   "outputs": [
    {
     "name": "stdout",
     "output_type": "stream",
     "text": [
      "\n",
      "3. Building the model...\n"
     ]
    },
    {
     "name": "stderr",
     "output_type": "stream",
     "text": [
      "2025-09-20 16:24:46.749502: E external/local_xla/xla/stream_executor/cuda/cuda_platform.cc:51] failed call to cuInit: INTERNAL: CUDA error: Failed call to cuInit: UNKNOWN ERROR (303)\n"
     ]
    },
    {
     "data": {
      "text/plain": [
       "\u001B[1mModel: \"functional\"\u001B[0m\n"
      ],
      "text/html": [
       "<pre style=\"white-space:pre;overflow-x:auto;line-height:normal;font-family:Menlo,'DejaVu Sans Mono',consolas,'Courier New',monospace\"><span style=\"font-weight: bold\">Model: \"functional\"</span>\n",
       "</pre>\n"
      ]
     },
     "metadata": {},
     "output_type": "display_data"
    },
    {
     "data": {
      "text/plain": [
       "┏━━━━━━━━━━━━━━━━━━━━━┳━━━━━━━━━━━━━━━━━━━┳━━━━━━━━━━━━┳━━━━━━━━━━━━━━━━━━━┓\n",
       "┃\u001B[1m \u001B[0m\u001B[1mLayer (type)       \u001B[0m\u001B[1m \u001B[0m┃\u001B[1m \u001B[0m\u001B[1mOutput Shape     \u001B[0m\u001B[1m \u001B[0m┃\u001B[1m \u001B[0m\u001B[1m   Param #\u001B[0m\u001B[1m \u001B[0m┃\u001B[1m \u001B[0m\u001B[1mConnected to     \u001B[0m\u001B[1m \u001B[0m┃\n",
       "┡━━━━━━━━━━━━━━━━━━━━━╇━━━━━━━━━━━━━━━━━━━╇━━━━━━━━━━━━╇━━━━━━━━━━━━━━━━━━━┩\n",
       "│ embedding1_input    │ (\u001B[38;5;45mNone\u001B[0m, \u001B[38;5;34m384\u001B[0m)       │          \u001B[38;5;34m0\u001B[0m │ -                 │\n",
       "│ (\u001B[38;5;33mInputLayer\u001B[0m)        │                   │            │                   │\n",
       "├─────────────────────┼───────────────────┼────────────┼───────────────────┤\n",
       "│ embedding2_input    │ (\u001B[38;5;45mNone\u001B[0m, \u001B[38;5;34m768\u001B[0m)       │          \u001B[38;5;34m0\u001B[0m │ -                 │\n",
       "│ (\u001B[38;5;33mInputLayer\u001B[0m)        │                   │            │                   │\n",
       "├─────────────────────┼───────────────────┼────────────┼───────────────────┤\n",
       "│ dense_2 (\u001B[38;5;33mDense\u001B[0m)     │ (\u001B[38;5;45mNone\u001B[0m, \u001B[38;5;34m256\u001B[0m)       │     \u001B[38;5;34m98,560\u001B[0m │ embedding1_input… │\n",
       "├─────────────────────┼───────────────────┼────────────┼───────────────────┤\n",
       "│ dense_5 (\u001B[38;5;33mDense\u001B[0m)     │ (\u001B[38;5;45mNone\u001B[0m, \u001B[38;5;34m512\u001B[0m)       │    \u001B[38;5;34m393,728\u001B[0m │ embedding2_input… │\n",
       "├─────────────────────┼───────────────────┼────────────┼───────────────────┤\n",
       "│ numerical_input     │ (\u001B[38;5;45mNone\u001B[0m, \u001B[38;5;34m47\u001B[0m)        │          \u001B[38;5;34m0\u001B[0m │ -                 │\n",
       "│ (\u001B[38;5;33mInputLayer\u001B[0m)        │                   │            │                   │\n",
       "├─────────────────────┼───────────────────┼────────────┼───────────────────┤\n",
       "│ dropout_1 (\u001B[38;5;33mDropout\u001B[0m) │ (\u001B[38;5;45mNone\u001B[0m, \u001B[38;5;34m256\u001B[0m)       │          \u001B[38;5;34m0\u001B[0m │ dense_2[\u001B[38;5;34m0\u001B[0m][\u001B[38;5;34m0\u001B[0m]     │\n",
       "├─────────────────────┼───────────────────┼────────────┼───────────────────┤\n",
       "│ dropout_3 (\u001B[38;5;33mDropout\u001B[0m) │ (\u001B[38;5;45mNone\u001B[0m, \u001B[38;5;34m512\u001B[0m)       │          \u001B[38;5;34m0\u001B[0m │ dense_5[\u001B[38;5;34m0\u001B[0m][\u001B[38;5;34m0\u001B[0m]     │\n",
       "├─────────────────────┼───────────────────┼────────────┼───────────────────┤\n",
       "│ dense (\u001B[38;5;33mDense\u001B[0m)       │ (\u001B[38;5;45mNone\u001B[0m, \u001B[38;5;34m64\u001B[0m)        │      \u001B[38;5;34m3,072\u001B[0m │ numerical_input[\u001B[38;5;34m…\u001B[0m │\n",
       "├─────────────────────┼───────────────────┼────────────┼───────────────────┤\n",
       "│ dense_3 (\u001B[38;5;33mDense\u001B[0m)     │ (\u001B[38;5;45mNone\u001B[0m, \u001B[38;5;34m128\u001B[0m)       │     \u001B[38;5;34m32,896\u001B[0m │ dropout_1[\u001B[38;5;34m0\u001B[0m][\u001B[38;5;34m0\u001B[0m]   │\n",
       "├─────────────────────┼───────────────────┼────────────┼───────────────────┤\n",
       "│ dense_6 (\u001B[38;5;33mDense\u001B[0m)     │ (\u001B[38;5;45mNone\u001B[0m, \u001B[38;5;34m256\u001B[0m)       │    \u001B[38;5;34m131,328\u001B[0m │ dropout_3[\u001B[38;5;34m0\u001B[0m][\u001B[38;5;34m0\u001B[0m]   │\n",
       "├─────────────────────┼───────────────────┼────────────┼───────────────────┤\n",
       "│ dropout (\u001B[38;5;33mDropout\u001B[0m)   │ (\u001B[38;5;45mNone\u001B[0m, \u001B[38;5;34m64\u001B[0m)        │          \u001B[38;5;34m0\u001B[0m │ dense[\u001B[38;5;34m0\u001B[0m][\u001B[38;5;34m0\u001B[0m]       │\n",
       "├─────────────────────┼───────────────────┼────────────┼───────────────────┤\n",
       "│ dropout_2 (\u001B[38;5;33mDropout\u001B[0m) │ (\u001B[38;5;45mNone\u001B[0m, \u001B[38;5;34m128\u001B[0m)       │          \u001B[38;5;34m0\u001B[0m │ dense_3[\u001B[38;5;34m0\u001B[0m][\u001B[38;5;34m0\u001B[0m]     │\n",
       "├─────────────────────┼───────────────────┼────────────┼───────────────────┤\n",
       "│ dropout_4 (\u001B[38;5;33mDropout\u001B[0m) │ (\u001B[38;5;45mNone\u001B[0m, \u001B[38;5;34m256\u001B[0m)       │          \u001B[38;5;34m0\u001B[0m │ dense_6[\u001B[38;5;34m0\u001B[0m][\u001B[38;5;34m0\u001B[0m]     │\n",
       "├─────────────────────┼───────────────────┼────────────┼───────────────────┤\n",
       "│ dense_1 (\u001B[38;5;33mDense\u001B[0m)     │ (\u001B[38;5;45mNone\u001B[0m, \u001B[38;5;34m32\u001B[0m)        │      \u001B[38;5;34m2,080\u001B[0m │ dropout[\u001B[38;5;34m0\u001B[0m][\u001B[38;5;34m0\u001B[0m]     │\n",
       "├─────────────────────┼───────────────────┼────────────┼───────────────────┤\n",
       "│ dense_4 (\u001B[38;5;33mDense\u001B[0m)     │ (\u001B[38;5;45mNone\u001B[0m, \u001B[38;5;34m64\u001B[0m)        │      \u001B[38;5;34m8,256\u001B[0m │ dropout_2[\u001B[38;5;34m0\u001B[0m][\u001B[38;5;34m0\u001B[0m]   │\n",
       "├─────────────────────┼───────────────────┼────────────┼───────────────────┤\n",
       "│ dense_7 (\u001B[38;5;33mDense\u001B[0m)     │ (\u001B[38;5;45mNone\u001B[0m, \u001B[38;5;34m128\u001B[0m)       │     \u001B[38;5;34m32,896\u001B[0m │ dropout_4[\u001B[38;5;34m0\u001B[0m][\u001B[38;5;34m0\u001B[0m]   │\n",
       "├─────────────────────┼───────────────────┼────────────┼───────────────────┤\n",
       "│ concatenate         │ (\u001B[38;5;45mNone\u001B[0m, \u001B[38;5;34m224\u001B[0m)       │          \u001B[38;5;34m0\u001B[0m │ dense_1[\u001B[38;5;34m0\u001B[0m][\u001B[38;5;34m0\u001B[0m],    │\n",
       "│ (\u001B[38;5;33mConcatenate\u001B[0m)       │                   │            │ dense_4[\u001B[38;5;34m0\u001B[0m][\u001B[38;5;34m0\u001B[0m],    │\n",
       "│                     │                   │            │ dense_7[\u001B[38;5;34m0\u001B[0m][\u001B[38;5;34m0\u001B[0m]     │\n",
       "├─────────────────────┼───────────────────┼────────────┼───────────────────┤\n",
       "│ dense_8 (\u001B[38;5;33mDense\u001B[0m)     │ (\u001B[38;5;45mNone\u001B[0m, \u001B[38;5;34m128\u001B[0m)       │     \u001B[38;5;34m28,800\u001B[0m │ concatenate[\u001B[38;5;34m0\u001B[0m][\u001B[38;5;34m0\u001B[0m] │\n",
       "├─────────────────────┼───────────────────┼────────────┼───────────────────┤\n",
       "│ dropout_5 (\u001B[38;5;33mDropout\u001B[0m) │ (\u001B[38;5;45mNone\u001B[0m, \u001B[38;5;34m128\u001B[0m)       │          \u001B[38;5;34m0\u001B[0m │ dense_8[\u001B[38;5;34m0\u001B[0m][\u001B[38;5;34m0\u001B[0m]     │\n",
       "├─────────────────────┼───────────────────┼────────────┼───────────────────┤\n",
       "│ dense_9 (\u001B[38;5;33mDense\u001B[0m)     │ (\u001B[38;5;45mNone\u001B[0m, \u001B[38;5;34m64\u001B[0m)        │      \u001B[38;5;34m8,256\u001B[0m │ dropout_5[\u001B[38;5;34m0\u001B[0m][\u001B[38;5;34m0\u001B[0m]   │\n",
       "├─────────────────────┼───────────────────┼────────────┼───────────────────┤\n",
       "│ output (\u001B[38;5;33mDense\u001B[0m)      │ (\u001B[38;5;45mNone\u001B[0m, \u001B[38;5;34m1\u001B[0m)         │         \u001B[38;5;34m65\u001B[0m │ dense_9[\u001B[38;5;34m0\u001B[0m][\u001B[38;5;34m0\u001B[0m]     │\n",
       "└─────────────────────┴───────────────────┴────────────┴───────────────────┘\n"
      ],
      "text/html": [
       "<pre style=\"white-space:pre;overflow-x:auto;line-height:normal;font-family:Menlo,'DejaVu Sans Mono',consolas,'Courier New',monospace\">┏━━━━━━━━━━━━━━━━━━━━━┳━━━━━━━━━━━━━━━━━━━┳━━━━━━━━━━━━┳━━━━━━━━━━━━━━━━━━━┓\n",
       "┃<span style=\"font-weight: bold\"> Layer (type)        </span>┃<span style=\"font-weight: bold\"> Output Shape      </span>┃<span style=\"font-weight: bold\">    Param # </span>┃<span style=\"font-weight: bold\"> Connected to      </span>┃\n",
       "┡━━━━━━━━━━━━━━━━━━━━━╇━━━━━━━━━━━━━━━━━━━╇━━━━━━━━━━━━╇━━━━━━━━━━━━━━━━━━━┩\n",
       "│ embedding1_input    │ (<span style=\"color: #00d7ff; text-decoration-color: #00d7ff\">None</span>, <span style=\"color: #00af00; text-decoration-color: #00af00\">384</span>)       │          <span style=\"color: #00af00; text-decoration-color: #00af00\">0</span> │ -                 │\n",
       "│ (<span style=\"color: #0087ff; text-decoration-color: #0087ff\">InputLayer</span>)        │                   │            │                   │\n",
       "├─────────────────────┼───────────────────┼────────────┼───────────────────┤\n",
       "│ embedding2_input    │ (<span style=\"color: #00d7ff; text-decoration-color: #00d7ff\">None</span>, <span style=\"color: #00af00; text-decoration-color: #00af00\">768</span>)       │          <span style=\"color: #00af00; text-decoration-color: #00af00\">0</span> │ -                 │\n",
       "│ (<span style=\"color: #0087ff; text-decoration-color: #0087ff\">InputLayer</span>)        │                   │            │                   │\n",
       "├─────────────────────┼───────────────────┼────────────┼───────────────────┤\n",
       "│ dense_2 (<span style=\"color: #0087ff; text-decoration-color: #0087ff\">Dense</span>)     │ (<span style=\"color: #00d7ff; text-decoration-color: #00d7ff\">None</span>, <span style=\"color: #00af00; text-decoration-color: #00af00\">256</span>)       │     <span style=\"color: #00af00; text-decoration-color: #00af00\">98,560</span> │ embedding1_input… │\n",
       "├─────────────────────┼───────────────────┼────────────┼───────────────────┤\n",
       "│ dense_5 (<span style=\"color: #0087ff; text-decoration-color: #0087ff\">Dense</span>)     │ (<span style=\"color: #00d7ff; text-decoration-color: #00d7ff\">None</span>, <span style=\"color: #00af00; text-decoration-color: #00af00\">512</span>)       │    <span style=\"color: #00af00; text-decoration-color: #00af00\">393,728</span> │ embedding2_input… │\n",
       "├─────────────────────┼───────────────────┼────────────┼───────────────────┤\n",
       "│ numerical_input     │ (<span style=\"color: #00d7ff; text-decoration-color: #00d7ff\">None</span>, <span style=\"color: #00af00; text-decoration-color: #00af00\">47</span>)        │          <span style=\"color: #00af00; text-decoration-color: #00af00\">0</span> │ -                 │\n",
       "│ (<span style=\"color: #0087ff; text-decoration-color: #0087ff\">InputLayer</span>)        │                   │            │                   │\n",
       "├─────────────────────┼───────────────────┼────────────┼───────────────────┤\n",
       "│ dropout_1 (<span style=\"color: #0087ff; text-decoration-color: #0087ff\">Dropout</span>) │ (<span style=\"color: #00d7ff; text-decoration-color: #00d7ff\">None</span>, <span style=\"color: #00af00; text-decoration-color: #00af00\">256</span>)       │          <span style=\"color: #00af00; text-decoration-color: #00af00\">0</span> │ dense_2[<span style=\"color: #00af00; text-decoration-color: #00af00\">0</span>][<span style=\"color: #00af00; text-decoration-color: #00af00\">0</span>]     │\n",
       "├─────────────────────┼───────────────────┼────────────┼───────────────────┤\n",
       "│ dropout_3 (<span style=\"color: #0087ff; text-decoration-color: #0087ff\">Dropout</span>) │ (<span style=\"color: #00d7ff; text-decoration-color: #00d7ff\">None</span>, <span style=\"color: #00af00; text-decoration-color: #00af00\">512</span>)       │          <span style=\"color: #00af00; text-decoration-color: #00af00\">0</span> │ dense_5[<span style=\"color: #00af00; text-decoration-color: #00af00\">0</span>][<span style=\"color: #00af00; text-decoration-color: #00af00\">0</span>]     │\n",
       "├─────────────────────┼───────────────────┼────────────┼───────────────────┤\n",
       "│ dense (<span style=\"color: #0087ff; text-decoration-color: #0087ff\">Dense</span>)       │ (<span style=\"color: #00d7ff; text-decoration-color: #00d7ff\">None</span>, <span style=\"color: #00af00; text-decoration-color: #00af00\">64</span>)        │      <span style=\"color: #00af00; text-decoration-color: #00af00\">3,072</span> │ numerical_input[<span style=\"color: #00af00; text-decoration-color: #00af00\">…</span> │\n",
       "├─────────────────────┼───────────────────┼────────────┼───────────────────┤\n",
       "│ dense_3 (<span style=\"color: #0087ff; text-decoration-color: #0087ff\">Dense</span>)     │ (<span style=\"color: #00d7ff; text-decoration-color: #00d7ff\">None</span>, <span style=\"color: #00af00; text-decoration-color: #00af00\">128</span>)       │     <span style=\"color: #00af00; text-decoration-color: #00af00\">32,896</span> │ dropout_1[<span style=\"color: #00af00; text-decoration-color: #00af00\">0</span>][<span style=\"color: #00af00; text-decoration-color: #00af00\">0</span>]   │\n",
       "├─────────────────────┼───────────────────┼────────────┼───────────────────┤\n",
       "│ dense_6 (<span style=\"color: #0087ff; text-decoration-color: #0087ff\">Dense</span>)     │ (<span style=\"color: #00d7ff; text-decoration-color: #00d7ff\">None</span>, <span style=\"color: #00af00; text-decoration-color: #00af00\">256</span>)       │    <span style=\"color: #00af00; text-decoration-color: #00af00\">131,328</span> │ dropout_3[<span style=\"color: #00af00; text-decoration-color: #00af00\">0</span>][<span style=\"color: #00af00; text-decoration-color: #00af00\">0</span>]   │\n",
       "├─────────────────────┼───────────────────┼────────────┼───────────────────┤\n",
       "│ dropout (<span style=\"color: #0087ff; text-decoration-color: #0087ff\">Dropout</span>)   │ (<span style=\"color: #00d7ff; text-decoration-color: #00d7ff\">None</span>, <span style=\"color: #00af00; text-decoration-color: #00af00\">64</span>)        │          <span style=\"color: #00af00; text-decoration-color: #00af00\">0</span> │ dense[<span style=\"color: #00af00; text-decoration-color: #00af00\">0</span>][<span style=\"color: #00af00; text-decoration-color: #00af00\">0</span>]       │\n",
       "├─────────────────────┼───────────────────┼────────────┼───────────────────┤\n",
       "│ dropout_2 (<span style=\"color: #0087ff; text-decoration-color: #0087ff\">Dropout</span>) │ (<span style=\"color: #00d7ff; text-decoration-color: #00d7ff\">None</span>, <span style=\"color: #00af00; text-decoration-color: #00af00\">128</span>)       │          <span style=\"color: #00af00; text-decoration-color: #00af00\">0</span> │ dense_3[<span style=\"color: #00af00; text-decoration-color: #00af00\">0</span>][<span style=\"color: #00af00; text-decoration-color: #00af00\">0</span>]     │\n",
       "├─────────────────────┼───────────────────┼────────────┼───────────────────┤\n",
       "│ dropout_4 (<span style=\"color: #0087ff; text-decoration-color: #0087ff\">Dropout</span>) │ (<span style=\"color: #00d7ff; text-decoration-color: #00d7ff\">None</span>, <span style=\"color: #00af00; text-decoration-color: #00af00\">256</span>)       │          <span style=\"color: #00af00; text-decoration-color: #00af00\">0</span> │ dense_6[<span style=\"color: #00af00; text-decoration-color: #00af00\">0</span>][<span style=\"color: #00af00; text-decoration-color: #00af00\">0</span>]     │\n",
       "├─────────────────────┼───────────────────┼────────────┼───────────────────┤\n",
       "│ dense_1 (<span style=\"color: #0087ff; text-decoration-color: #0087ff\">Dense</span>)     │ (<span style=\"color: #00d7ff; text-decoration-color: #00d7ff\">None</span>, <span style=\"color: #00af00; text-decoration-color: #00af00\">32</span>)        │      <span style=\"color: #00af00; text-decoration-color: #00af00\">2,080</span> │ dropout[<span style=\"color: #00af00; text-decoration-color: #00af00\">0</span>][<span style=\"color: #00af00; text-decoration-color: #00af00\">0</span>]     │\n",
       "├─────────────────────┼───────────────────┼────────────┼───────────────────┤\n",
       "│ dense_4 (<span style=\"color: #0087ff; text-decoration-color: #0087ff\">Dense</span>)     │ (<span style=\"color: #00d7ff; text-decoration-color: #00d7ff\">None</span>, <span style=\"color: #00af00; text-decoration-color: #00af00\">64</span>)        │      <span style=\"color: #00af00; text-decoration-color: #00af00\">8,256</span> │ dropout_2[<span style=\"color: #00af00; text-decoration-color: #00af00\">0</span>][<span style=\"color: #00af00; text-decoration-color: #00af00\">0</span>]   │\n",
       "├─────────────────────┼───────────────────┼────────────┼───────────────────┤\n",
       "│ dense_7 (<span style=\"color: #0087ff; text-decoration-color: #0087ff\">Dense</span>)     │ (<span style=\"color: #00d7ff; text-decoration-color: #00d7ff\">None</span>, <span style=\"color: #00af00; text-decoration-color: #00af00\">128</span>)       │     <span style=\"color: #00af00; text-decoration-color: #00af00\">32,896</span> │ dropout_4[<span style=\"color: #00af00; text-decoration-color: #00af00\">0</span>][<span style=\"color: #00af00; text-decoration-color: #00af00\">0</span>]   │\n",
       "├─────────────────────┼───────────────────┼────────────┼───────────────────┤\n",
       "│ concatenate         │ (<span style=\"color: #00d7ff; text-decoration-color: #00d7ff\">None</span>, <span style=\"color: #00af00; text-decoration-color: #00af00\">224</span>)       │          <span style=\"color: #00af00; text-decoration-color: #00af00\">0</span> │ dense_1[<span style=\"color: #00af00; text-decoration-color: #00af00\">0</span>][<span style=\"color: #00af00; text-decoration-color: #00af00\">0</span>],    │\n",
       "│ (<span style=\"color: #0087ff; text-decoration-color: #0087ff\">Concatenate</span>)       │                   │            │ dense_4[<span style=\"color: #00af00; text-decoration-color: #00af00\">0</span>][<span style=\"color: #00af00; text-decoration-color: #00af00\">0</span>],    │\n",
       "│                     │                   │            │ dense_7[<span style=\"color: #00af00; text-decoration-color: #00af00\">0</span>][<span style=\"color: #00af00; text-decoration-color: #00af00\">0</span>]     │\n",
       "├─────────────────────┼───────────────────┼────────────┼───────────────────┤\n",
       "│ dense_8 (<span style=\"color: #0087ff; text-decoration-color: #0087ff\">Dense</span>)     │ (<span style=\"color: #00d7ff; text-decoration-color: #00d7ff\">None</span>, <span style=\"color: #00af00; text-decoration-color: #00af00\">128</span>)       │     <span style=\"color: #00af00; text-decoration-color: #00af00\">28,800</span> │ concatenate[<span style=\"color: #00af00; text-decoration-color: #00af00\">0</span>][<span style=\"color: #00af00; text-decoration-color: #00af00\">0</span>] │\n",
       "├─────────────────────┼───────────────────┼────────────┼───────────────────┤\n",
       "│ dropout_5 (<span style=\"color: #0087ff; text-decoration-color: #0087ff\">Dropout</span>) │ (<span style=\"color: #00d7ff; text-decoration-color: #00d7ff\">None</span>, <span style=\"color: #00af00; text-decoration-color: #00af00\">128</span>)       │          <span style=\"color: #00af00; text-decoration-color: #00af00\">0</span> │ dense_8[<span style=\"color: #00af00; text-decoration-color: #00af00\">0</span>][<span style=\"color: #00af00; text-decoration-color: #00af00\">0</span>]     │\n",
       "├─────────────────────┼───────────────────┼────────────┼───────────────────┤\n",
       "│ dense_9 (<span style=\"color: #0087ff; text-decoration-color: #0087ff\">Dense</span>)     │ (<span style=\"color: #00d7ff; text-decoration-color: #00d7ff\">None</span>, <span style=\"color: #00af00; text-decoration-color: #00af00\">64</span>)        │      <span style=\"color: #00af00; text-decoration-color: #00af00\">8,256</span> │ dropout_5[<span style=\"color: #00af00; text-decoration-color: #00af00\">0</span>][<span style=\"color: #00af00; text-decoration-color: #00af00\">0</span>]   │\n",
       "├─────────────────────┼───────────────────┼────────────┼───────────────────┤\n",
       "│ output (<span style=\"color: #0087ff; text-decoration-color: #0087ff\">Dense</span>)      │ (<span style=\"color: #00d7ff; text-decoration-color: #00d7ff\">None</span>, <span style=\"color: #00af00; text-decoration-color: #00af00\">1</span>)         │         <span style=\"color: #00af00; text-decoration-color: #00af00\">65</span> │ dense_9[<span style=\"color: #00af00; text-decoration-color: #00af00\">0</span>][<span style=\"color: #00af00; text-decoration-color: #00af00\">0</span>]     │\n",
       "└─────────────────────┴───────────────────┴────────────┴───────────────────┘\n",
       "</pre>\n"
      ]
     },
     "metadata": {},
     "output_type": "display_data"
    },
    {
     "data": {
      "text/plain": [
       "\u001B[1m Total params: \u001B[0m\u001B[38;5;34m739,937\u001B[0m (2.82 MB)\n"
      ],
      "text/html": [
       "<pre style=\"white-space:pre;overflow-x:auto;line-height:normal;font-family:Menlo,'DejaVu Sans Mono',consolas,'Courier New',monospace\"><span style=\"font-weight: bold\"> Total params: </span><span style=\"color: #00af00; text-decoration-color: #00af00\">739,937</span> (2.82 MB)\n",
       "</pre>\n"
      ]
     },
     "metadata": {},
     "output_type": "display_data"
    },
    {
     "data": {
      "text/plain": [
       "\u001B[1m Trainable params: \u001B[0m\u001B[38;5;34m739,937\u001B[0m (2.82 MB)\n"
      ],
      "text/html": [
       "<pre style=\"white-space:pre;overflow-x:auto;line-height:normal;font-family:Menlo,'DejaVu Sans Mono',consolas,'Courier New',monospace\"><span style=\"font-weight: bold\"> Trainable params: </span><span style=\"color: #00af00; text-decoration-color: #00af00\">739,937</span> (2.82 MB)\n",
       "</pre>\n"
      ]
     },
     "metadata": {},
     "output_type": "display_data"
    },
    {
     "data": {
      "text/plain": [
       "\u001B[1m Non-trainable params: \u001B[0m\u001B[38;5;34m0\u001B[0m (0.00 B)\n"
      ],
      "text/html": [
       "<pre style=\"white-space:pre;overflow-x:auto;line-height:normal;font-family:Menlo,'DejaVu Sans Mono',consolas,'Courier New',monospace\"><span style=\"font-weight: bold\"> Non-trainable params: </span><span style=\"color: #00af00; text-decoration-color: #00af00\">0</span> (0.00 B)\n",
       "</pre>\n"
      ]
     },
     "metadata": {},
     "output_type": "display_data"
    }
   ],
   "execution_count": 7
  },
  {
   "metadata": {
    "jupyter": {
     "is_executing": true
    },
    "ExecuteTime": {
     "start_time": "2025-09-20T14:24:47.297829Z"
    }
   },
   "cell_type": "code",
   "source": [
    "\n",
    "# --- Train the Model ---\n",
    "print(\"\\n4. Training the model...\")\n",
    "# Early stopping to prevent overfitting\n",
    "early_stopping = EarlyStopping(monitor='val_loss', patience=10, restore_best_weights=True)\n",
    "class_weights = compute_class_weight(\n",
    "    class_weight=\"balanced\",\n",
    "    classes=np.unique(y_train),\n",
    "    y=y_train\n",
    ")\n",
    "class_weights = dict(enumerate(class_weights))\n",
    "\n",
    "history = model.fit(\n",
    "    X_train,\n",
    "    y_train,\n",
    "    epochs=50,\n",
    "    batch_size=64,\n",
    "    validation_data=(X_val, y_val), # Use 20% of training data for validation\n",
    "    callbacks=[early_stopping],\n",
    "    class_weight=class_weights,\n",
    "    verbose=1\n",
    ")"
   ],
   "id": "f20caf3422d08b7b",
   "outputs": [
    {
     "name": "stdout",
     "output_type": "stream",
     "text": [
      "\n",
      "4. Training the model...\n"
     ]
    }
   ],
   "execution_count": null
  },
  {
   "metadata": {
    "ExecuteTime": {
     "end_time": "2025-09-14T23:30:21.647057Z",
     "start_time": "2025-09-14T23:30:14.502354Z"
    }
   },
   "cell_type": "code",
   "source": [
    "y_pred_probs = model.predict(X_test)\n",
    "y_pred = (y_pred_probs > 0.5).astype(int)\n",
    "print(y_test[:10], y_pred_probs[:10])\n",
    "print(classification_report(y_test, y_pred, target_names=['bot', 'human']))"
   ],
   "id": "ae3cbfde4fa7cd0c",
   "outputs": [
    {
     "name": "stdout",
     "output_type": "stream",
     "text": [
      "\u001B[1m3125/3125\u001B[0m \u001B[32m━━━━━━━━━━━━━━━━━━━━\u001B[0m\u001B[37m\u001B[0m \u001B[1m6s\u001B[0m 2ms/step\n",
      "[1 1 0 0 0 1 0 1 1 1] [[0.79819834]\n",
      " [0.7609072 ]\n",
      " [0.7640944 ]\n",
      " [0.7609072 ]\n",
      " [0.7609072 ]\n",
      " [0.8094242 ]\n",
      " [0.7609072 ]\n",
      " [0.7609072 ]\n",
      " [0.7609072 ]\n",
      " [0.7663691 ]]\n",
      "              precision    recall  f1-score   support\n",
      "\n",
      "         bot       0.21      0.00      0.00     29444\n",
      "       human       0.71      1.00      0.83     70556\n",
      "\n",
      "    accuracy                           0.70    100000\n",
      "   macro avg       0.46      0.50      0.41    100000\n",
      "weighted avg       0.56      0.70      0.58    100000\n",
      "\n"
     ]
    }
   ],
   "execution_count": 105
  },
  {
   "metadata": {},
   "cell_type": "code",
   "source": "",
   "id": "822e59c9d2751aa6",
   "outputs": [],
   "execution_count": null
  }
 ],
 "metadata": {
  "kernelspec": {
   "display_name": "Python 3",
   "language": "python",
   "name": "python3"
  },
  "language_info": {
   "codemirror_mode": {
    "name": "ipython",
    "version": 2
   },
   "file_extension": ".py",
   "mimetype": "text/x-python",
   "name": "python",
   "nbconvert_exporter": "python",
   "pygments_lexer": "ipython2",
   "version": "2.7.6"
  }
 },
 "nbformat": 4,
 "nbformat_minor": 5
}
